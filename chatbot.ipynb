{
 "cells": [
  {
   "cell_type": "code",
   "execution_count": 2,
   "metadata": {},
   "outputs": [],
   "source": [
    "# 사전 설치 pip install ollama\n",
    "import ollama"
   ]
  },
  {
   "cell_type": "code",
   "execution_count": 4,
   "metadata": {},
   "outputs": [],
   "source": [
    "# 챗봇의 기본적 질문, 답변 역할\n",
    "def ask_gemma(question):\n",
    "    # ollama를 사용하여 모델로부터 응답 생성\n",
    "    chatbot_role = \"너는 전문 심리 상담가야. 질문에 대한 답은 3줄 이내로 짧게해줘.\"\n",
    "    response = ollama.chat(model='gemma2', messages=[\n",
    "        {\"role\": \"system\", \"content\": chatbot_role},  # 챗봇의 기본 역할 부여\n",
    "        {\"role\": \"user\", \"content\": question}, # 질문\n",
    "    ])"
   ]
  },
  {
   "cell_type": "code",
   "execution_count": 6,
   "metadata": {},
   "outputs": [
    {
     "name": "stdout",
     "output_type": "stream",
     "text": [
      "None\n"
     ]
    }
   ],
   "source": [
    "question = \"요즘 기분이 우울해.\"\n",
    "response = ask_gemma(question)\n",
    "print(response)"
   ]
  }
 ],
 "metadata": {
  "kernelspec": {
   "display_name": ".venv",
   "language": "python",
   "name": "python3"
  },
  "language_info": {
   "codemirror_mode": {
    "name": "ipython",
    "version": 3
   },
   "file_extension": ".py",
   "mimetype": "text/x-python",
   "name": "python",
   "nbconvert_exporter": "python",
   "pygments_lexer": "ipython3",
   "version": "3.10.6"
  }
 },
 "nbformat": 4,
 "nbformat_minor": 2
}
